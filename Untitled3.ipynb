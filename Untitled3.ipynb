{
  "nbformat": 4,
  "nbformat_minor": 0,
  "metadata": {
    "colab": {
      "provenance": [],
      "authorship_tag": "ABX9TyOOuej9T5YkSXRJt5983iXZ",
      "include_colab_link": true
    },
    "kernelspec": {
      "name": "python3",
      "display_name": "Python 3"
    },
    "language_info": {
      "name": "python"
    }
  },
  "cells": [
    {
      "cell_type": "markdown",
      "metadata": {
        "id": "view-in-github",
        "colab_type": "text"
      },
      "source": [
        "<a href=\"https://colab.research.google.com/github/swathi863/array_sorting_problems/blob/main/Untitled3.ipynb\" target=\"_parent\"><img src=\"https://colab.research.google.com/assets/colab-badge.svg\" alt=\"Open In Colab\"/></a>"
      ]
    },
    {
      "cell_type": "code",
      "source": [
        "\"Design an algorithm to remove all duplicate elements from an orderd array(may br ascending or descending order) and contract accordingly\"\n",
        "n=list(map(int,input(\"enter 10 elements to the array: \").split(\" \")))\n",
        "n.sort()\n",
        "s=set(n)\n",
        "for i in s:\n",
        "  print(i,end=\" \")"
      ],
      "metadata": {
        "colab": {
          "base_uri": "https://localhost:8080/"
        },
        "id": "4ZwQqYZVjw8s",
        "outputId": "7041b7bd-40eb-4d01-b916-350d2b48e96c"
      },
      "execution_count": 16,
      "outputs": [
        {
          "output_type": "stream",
          "name": "stdout",
          "text": [
            "enter 10 elements to the array: 2 4 2 5 3 4 6 5 1 7\n",
            "1 2 3 4 5 6 7 "
          ]
        }
      ]
    },
    {
      "cell_type": "code",
      "source": [
        "\"\"\"Design an algorithm to acept 25 integer elements for an array.then find the number with maximum value in the set and the position\n",
        "      - when it occurs frist\n",
        "      - when it occur last\"\"\"\n",
        "from collections import Counter\n",
        "n=list(map(int,input(\"enter 10 elements to the array: \").split(\" \")))\n",
        "target=max(n)\n",
        "print(\"Maximum Value:\",target)\n",
        "print(\"frist occurance:\",n.index(target))\n",
        "for i in range(len(n)-1,-1,-1):\n",
        "  if n[i]==target:\n",
        "    last=i\n",
        "    break\n",
        "print(\"last occurance:\",last)\n"
      ],
      "metadata": {
        "colab": {
          "base_uri": "https://localhost:8080/"
        },
        "id": "dcFViYxzk6Ta",
        "outputId": "006106b3-f987-4a13-c028-a9401ac15610"
      },
      "execution_count": 27,
      "outputs": [
        {
          "output_type": "stream",
          "name": "stdout",
          "text": [
            "enter 10 elements to the array: 12 5 99 18 7 99 3 45 99 12 18 19 8 66 99 2 1 88 77 99 23 10 33 99 4\n",
            "Maximum Value: 99\n",
            "frist occurance: 2\n",
            "last occurance: 23\n"
          ]
        }
      ]
    },
    {
      "cell_type": "code",
      "source": [
        "\"\"\"Design an algorithm to find the positions of a number X(entered by user and if it occur) in a  array of 15 elements.Array elements are also entered by the user.\"\"\"\n",
        "n=list(map(int,input(\"enter 10 elements to the array: \").split(\" \")))\n",
        "target=int(input(\"enter a number\"))\n",
        "if target in n:\n",
        "  pos=[]\n",
        "  for i in range(len(n)):\n",
        "    if n[i]==target:\n",
        "      pos.append(i)\n",
        "  print(pos)\n",
        "\n",
        "else:\n",
        "  print(\"element not a found\")"
      ],
      "metadata": {
        "colab": {
          "base_uri": "https://localhost:8080/"
        },
        "id": "ZCPVPfOOpg3l",
        "outputId": "db526ce4-6095-4b6f-b93d-2f4cd2befc39"
      },
      "execution_count": 31,
      "outputs": [
        {
          "output_type": "stream",
          "name": "stdout",
          "text": [
            "enter 10 elements to the array: 4 7 2 8 3 2 6 9 2 1 5 0 2 6 3\n",
            "enter a number2\n",
            "[2, 5, 8, 12]\n"
          ]
        }
      ]
    },
    {
      "cell_type": "code",
      "source": [
        "\"Design an algorithm to accept element for 2 random arrays. Rearrange the elements of array in descending order then merge them into form one aaray.\"\n",
        "arr=list(map(int,input(\"enter the array elements:\").split(\" \")))\n",
        "arr1=list(map(int,input(\"enter the array elements:\").split(\" \")))\n",
        "arr.sort(reverse=True)\n",
        "arr1.sort(reverse=True)\n",
        "res=arr+arr1\n",
        "res.sort(reverse=True)\n",
        "print(res)"
      ],
      "metadata": {
        "colab": {
          "base_uri": "https://localhost:8080/"
        },
        "id": "NTIMw0Jrr0qE",
        "outputId": "30eaf49a-3f3a-47ae-9d49-b33529223834"
      },
      "execution_count": 32,
      "outputs": [
        {
          "output_type": "stream",
          "name": "stdout",
          "text": [
            "enter the array elements:4 1 9 2\n",
            "enter the array elements:3 0 1 6\n",
            "[9, 6, 4, 3, 2, 1, 1, 0]\n"
          ]
        }
      ]
    },
    {
      "cell_type": "code",
      "source": [
        "\"\"\" Design an algorithm to accept 10 interger elements for an array and rearrange the elements in\n",
        "    desending order.The new array must be printed to the user.\"\"\"\n",
        "#selection sort\n",
        "n=list(map(int,input(\"enter 10 elements to the array: \").split(\" \")))\n",
        "for i in range(len(n)):\n",
        "  for j in range(i+1,len(n)):\n",
        "    if n[i]<n[j]:\n",
        "      n[i],n[j]=n[j],n[i]\n",
        "print(n)\n",
        "#by using sorting\n",
        "n1=list(map(int,input(\"enter 10 elements to the array:\").split(\" \")))\n",
        "n1.sort(reverse=True)\n",
        "print(n1)"
      ],
      "metadata": {
        "colab": {
          "base_uri": "https://localhost:8080/"
        },
        "id": "YR_8JT4pueix",
        "outputId": "622ed0fa-4256-4b23-f0ec-4717e4dea6d8"
      },
      "execution_count": 34,
      "outputs": [
        {
          "output_type": "stream",
          "name": "stdout",
          "text": [
            "enter 10 elements to the array: 12 3 1 56 2 89 1 34 67 12\n",
            "[89, 67, 56, 34, 12, 12, 3, 2, 1, 1]\n",
            "enter 10 elements to the array:12 5 8 2 6 0 12 56 1 67\n",
            "[67, 56, 12, 12, 8, 6, 5, 2, 1, 0]\n"
          ]
        }
      ]
    }
  ]
}